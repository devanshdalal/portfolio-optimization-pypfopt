{
 "cells": [
  {
   "cell_type": "code",
   "execution_count": 1,
   "id": "60a46526",
   "metadata": {},
   "outputs": [
    {
     "name": "stdout",
     "output_type": "stream",
     "text": [
      "split RELIANCE 1645.4 2.0112455690013444 818.1\n",
      "split RELIANCE 2194.7 8.345758072013917 528.9011030752401\n",
      "split HDFCBANK 2187.75 1.9869669860587622 1101.05\n",
      "split HDFCBANK 2519.7 19.661766684358625 254.6343263627014\n",
      "split INFY 1434.25 1.9456691311130707 737.15\n",
      "split INFY 1975.05 7.548897276749774 509.05366393585496\n",
      "split INFY 4349.85 116.56160069377809 281.71001962761125\n",
      "split INFY 3385.65 27348.90761583446 14.429709183719028\n",
      "split HDFC 3008.95 4.84377012234385 621.2\n",
      "split ICICIBANK 1794.1 4.953340695748206 362.2\n",
      "split TCS 3514.1 2.018379713391344 1741.05\n",
      "split TCS 778.0 8.144572754105939 192.80316652912552\n",
      "split TCS 1899.7 135.72602072222847 113.99615769064606\n",
      "split KOTAKBANK 1425.6 2.016122189223589 707.1\n",
      "split KOTAKBANK 864.6 7.729011898731478 225.53196548821552\n",
      "split KOTAKBANK 464.75 136.93248427402247 26.232331203070895\n",
      "split AXISBANK 1985.75 5.022764638927533 395.35\n"
     ]
    }
   ],
   "source": [
    "import pandas as pd\n",
    "from pypfopt import EfficientFrontier\n",
    "from pypfopt import risk_models\n",
    "from pypfopt import expected_returns\n",
    "from pypfopt import plotting\n",
    "import os\n",
    "import numpy as np\n",
    "from datetime import datetime\n",
    "import matplotlib.pyplot as plt\n",
    "import time\n",
    "from ipynb.fs.full.prepare import index_df, topk"
   ]
  },
  {
   "cell_type": "code",
   "execution_count": 2,
   "id": "aff00c4c",
   "metadata": {},
   "outputs": [
    {
     "name": "stdout",
     "output_type": "stream",
     "text": [
      "Start\n"
     ]
    }
   ],
   "source": [
    "print('Start')"
   ]
  },
  {
   "cell_type": "code",
   "execution_count": 3,
   "id": "9659e57f",
   "metadata": {},
   "outputs": [
    {
     "data": {
      "text/html": [
       "<div>\n",
       "<style scoped>\n",
       "    .dataframe tbody tr th:only-of-type {\n",
       "        vertical-align: middle;\n",
       "    }\n",
       "\n",
       "    .dataframe tbody tr th {\n",
       "        vertical-align: top;\n",
       "    }\n",
       "\n",
       "    .dataframe thead th {\n",
       "        text-align: right;\n",
       "    }\n",
       "</style>\n",
       "<table border=\"1\" class=\"dataframe\">\n",
       "  <thead>\n",
       "    <tr style=\"text-align: right;\">\n",
       "      <th></th>\n",
       "      <th>RELIANCE</th>\n",
       "      <th>HDFCBANK</th>\n",
       "      <th>INFY</th>\n",
       "      <th>HDFC</th>\n",
       "      <th>ICICIBANK</th>\n",
       "      <th>TCS</th>\n",
       "      <th>KOTAKBANK</th>\n",
       "      <th>HINDUNILVR</th>\n",
       "      <th>AXISBANK</th>\n",
       "    </tr>\n",
       "    <tr>\n",
       "      <th>Date</th>\n",
       "      <th></th>\n",
       "      <th></th>\n",
       "      <th></th>\n",
       "      <th></th>\n",
       "      <th></th>\n",
       "      <th></th>\n",
       "      <th></th>\n",
       "      <th></th>\n",
       "      <th></th>\n",
       "    </tr>\n",
       "  </thead>\n",
       "  <tbody>\n",
       "    <tr>\n",
       "      <th>2005-01-07</th>\n",
       "      <td>64.973127</td>\n",
       "      <td>24.934178</td>\n",
       "      <td>0.074987</td>\n",
       "      <td>149.955506</td>\n",
       "      <td>72.415774</td>\n",
       "      <td>9.872462</td>\n",
       "      <td>2.074745</td>\n",
       "      <td>141.05</td>\n",
       "      <td>37.847682</td>\n",
       "    </tr>\n",
       "    <tr>\n",
       "      <th>2005-01-10</th>\n",
       "      <td>64.002574</td>\n",
       "      <td>24.908748</td>\n",
       "      <td>0.072943</td>\n",
       "      <td>150.801954</td>\n",
       "      <td>70.437311</td>\n",
       "      <td>9.780365</td>\n",
       "      <td>2.084969</td>\n",
       "      <td>142.75</td>\n",
       "      <td>38.245869</td>\n",
       "    </tr>\n",
       "    <tr>\n",
       "      <th>2005-01-11</th>\n",
       "      <td>62.996075</td>\n",
       "      <td>24.585787</td>\n",
       "      <td>0.072092</td>\n",
       "      <td>148.954220</td>\n",
       "      <td>70.810796</td>\n",
       "      <td>9.679426</td>\n",
       "      <td>1.990762</td>\n",
       "      <td>141.15</td>\n",
       "      <td>37.419631</td>\n",
       "    </tr>\n",
       "    <tr>\n",
       "      <th>2005-01-12</th>\n",
       "      <td>62.091424</td>\n",
       "      <td>24.461179</td>\n",
       "      <td>0.069701</td>\n",
       "      <td>149.078090</td>\n",
       "      <td>69.670152</td>\n",
       "      <td>9.563752</td>\n",
       "      <td>1.921385</td>\n",
       "      <td>139.40</td>\n",
       "      <td>36.105614</td>\n",
       "    </tr>\n",
       "    <tr>\n",
       "      <th>2005-01-13</th>\n",
       "      <td>62.319084</td>\n",
       "      <td>25.374119</td>\n",
       "      <td>0.071972</td>\n",
       "      <td>148.582609</td>\n",
       "      <td>71.477014</td>\n",
       "      <td>9.525808</td>\n",
       "      <td>1.989302</td>\n",
       "      <td>140.05</td>\n",
       "      <td>34.970781</td>\n",
       "    </tr>\n",
       "    <tr>\n",
       "      <th>...</th>\n",
       "      <td>...</td>\n",
       "      <td>...</td>\n",
       "      <td>...</td>\n",
       "      <td>...</td>\n",
       "      <td>...</td>\n",
       "      <td>...</td>\n",
       "      <td>...</td>\n",
       "      <td>...</td>\n",
       "      <td>...</td>\n",
       "    </tr>\n",
       "    <tr>\n",
       "      <th>2021-04-26</th>\n",
       "      <td>1937.850000</td>\n",
       "      <td>1404.800000</td>\n",
       "      <td>1343.550000</td>\n",
       "      <td>2509.800000</td>\n",
       "      <td>591.100000</td>\n",
       "      <td>3100.800000</td>\n",
       "      <td>1759.650000</td>\n",
       "      <td>2360.65</td>\n",
       "      <td>700.450000</td>\n",
       "    </tr>\n",
       "    <tr>\n",
       "      <th>2021-04-27</th>\n",
       "      <td>1988.650000</td>\n",
       "      <td>1438.700000</td>\n",
       "      <td>1348.500000</td>\n",
       "      <td>2518.400000</td>\n",
       "      <td>598.750000</td>\n",
       "      <td>3132.000000</td>\n",
       "      <td>1750.300000</td>\n",
       "      <td>2379.85</td>\n",
       "      <td>699.550000</td>\n",
       "    </tr>\n",
       "    <tr>\n",
       "      <th>2021-04-28</th>\n",
       "      <td>1997.300000</td>\n",
       "      <td>1476.800000</td>\n",
       "      <td>1356.000000</td>\n",
       "      <td>2577.000000</td>\n",
       "      <td>621.350000</td>\n",
       "      <td>3124.100000</td>\n",
       "      <td>1811.450000</td>\n",
       "      <td>2406.55</td>\n",
       "      <td>708.150000</td>\n",
       "    </tr>\n",
       "    <tr>\n",
       "      <th>2021-04-29</th>\n",
       "      <td>2024.050000</td>\n",
       "      <td>1472.500000</td>\n",
       "      <td>1356.350000</td>\n",
       "      <td>2538.850000</td>\n",
       "      <td>621.450000</td>\n",
       "      <td>3115.250000</td>\n",
       "      <td>1805.000000</td>\n",
       "      <td>2407.60</td>\n",
       "      <td>719.400000</td>\n",
       "    </tr>\n",
       "    <tr>\n",
       "      <th>2021-04-30</th>\n",
       "      <td>1994.500000</td>\n",
       "      <td>1412.300000</td>\n",
       "      <td>1354.350000</td>\n",
       "      <td>2420.100000</td>\n",
       "      <td>600.500000</td>\n",
       "      <td>3035.650000</td>\n",
       "      <td>1748.800000</td>\n",
       "      <td>2353.75</td>\n",
       "      <td>714.900000</td>\n",
       "    </tr>\n",
       "  </tbody>\n",
       "</table>\n",
       "<p>4045 rows × 9 columns</p>\n",
       "</div>"
      ],
      "text/plain": [
       "               RELIANCE     HDFCBANK         INFY         HDFC   ICICIBANK  \\\n",
       "Date                                                                         \n",
       "2005-01-07    64.973127    24.934178     0.074987   149.955506   72.415774   \n",
       "2005-01-10    64.002574    24.908748     0.072943   150.801954   70.437311   \n",
       "2005-01-11    62.996075    24.585787     0.072092   148.954220   70.810796   \n",
       "2005-01-12    62.091424    24.461179     0.069701   149.078090   69.670152   \n",
       "2005-01-13    62.319084    25.374119     0.071972   148.582609   71.477014   \n",
       "...                 ...          ...          ...          ...         ...   \n",
       "2021-04-26  1937.850000  1404.800000  1343.550000  2509.800000  591.100000   \n",
       "2021-04-27  1988.650000  1438.700000  1348.500000  2518.400000  598.750000   \n",
       "2021-04-28  1997.300000  1476.800000  1356.000000  2577.000000  621.350000   \n",
       "2021-04-29  2024.050000  1472.500000  1356.350000  2538.850000  621.450000   \n",
       "2021-04-30  1994.500000  1412.300000  1354.350000  2420.100000  600.500000   \n",
       "\n",
       "                    TCS    KOTAKBANK  HINDUNILVR    AXISBANK  \n",
       "Date                                                          \n",
       "2005-01-07     9.872462     2.074745      141.05   37.847682  \n",
       "2005-01-10     9.780365     2.084969      142.75   38.245869  \n",
       "2005-01-11     9.679426     1.990762      141.15   37.419631  \n",
       "2005-01-12     9.563752     1.921385      139.40   36.105614  \n",
       "2005-01-13     9.525808     1.989302      140.05   34.970781  \n",
       "...                 ...          ...         ...         ...  \n",
       "2021-04-26  3100.800000  1759.650000     2360.65  700.450000  \n",
       "2021-04-27  3132.000000  1750.300000     2379.85  699.550000  \n",
       "2021-04-28  3124.100000  1811.450000     2406.55  708.150000  \n",
       "2021-04-29  3115.250000  1805.000000     2407.60  719.400000  \n",
       "2021-04-30  3035.650000  1748.800000     2353.75  714.900000  \n",
       "\n",
       "[4045 rows x 9 columns]"
      ]
     },
     "execution_count": 3,
     "metadata": {},
     "output_type": "execute_result"
    }
   ],
   "source": [
    "index_df"
   ]
  },
  {
   "cell_type": "code",
   "execution_count": 4,
   "id": "7b84440f",
   "metadata": {},
   "outputs": [],
   "source": [
    "# index_df.plot(kind='line',y='LT',color='red')"
   ]
  },
  {
   "cell_type": "code",
   "execution_count": 5,
   "id": "39bd3a32",
   "metadata": {},
   "outputs": [],
   "source": [
    "# Calculate expected returns and sample covariance\n",
    "mu = expected_returns.mean_historical_return(index_df, compounding=True)"
   ]
  },
  {
   "cell_type": "code",
   "execution_count": 6,
   "id": "d9489bbc",
   "metadata": {},
   "outputs": [
    {
     "data": {
      "text/plain": [
       "RELIANCE      0.237850\n",
       "HDFCBANK      0.286014\n",
       "INFY          0.841863\n",
       "HDFC          0.189236\n",
       "ICICIBANK     0.140899\n",
       "TCS           0.428985\n",
       "KOTAKBANK     0.521663\n",
       "HINDUNILVR    0.191715\n",
       "AXISBANK      0.200953\n",
       "dtype: float64"
      ]
     },
     "execution_count": 6,
     "metadata": {},
     "output_type": "execute_result"
    }
   ],
   "source": [
    "mu"
   ]
  },
  {
   "cell_type": "code",
   "execution_count": 7,
   "id": "df220bf6",
   "metadata": {},
   "outputs": [
    {
     "data": {
      "text/plain": [
       "RELIANCE      0.290637\n",
       "HDFCBANK      0.315050\n",
       "INFY          7.862403\n",
       "HDFC          0.236050\n",
       "ICICIBANK     0.216091\n",
       "TCS           0.739331\n",
       "KOTAKBANK     0.811720\n",
       "HINDUNILVR    0.214057\n",
       "AXISBANK      0.272611\n",
       "dtype: float64"
      ]
     },
     "execution_count": 7,
     "metadata": {},
     "output_type": "execute_result"
    }
   ],
   "source": [
    "expected_returns.mean_historical_return(index_df, compounding=False)"
   ]
  },
  {
   "cell_type": "code",
   "execution_count": 8,
   "id": "964c1856",
   "metadata": {},
   "outputs": [],
   "source": [
    "S = risk_models.exp_cov(index_df)"
   ]
  },
  {
   "cell_type": "code",
   "execution_count": 9,
   "id": "670d5087",
   "metadata": {},
   "outputs": [
    {
     "data": {
      "text/plain": [
       "<pypfopt.efficient_frontier.efficient_frontier.EfficientFrontier at 0x105d92f70>"
      ]
     },
     "execution_count": 9,
     "metadata": {},
     "output_type": "execute_result"
    }
   ],
   "source": [
    "# Optimize for maximal Sharpe ratio\n",
    "ef = EfficientFrontier(mu, S)\n",
    "ef"
   ]
  },
  {
   "cell_type": "code",
   "execution_count": 10,
   "id": "df84eb69",
   "metadata": {},
   "outputs": [],
   "source": [
    "# raw_weights = ef.max_sharpe()\n",
    "\n",
    "# w = ef.nonconvex_objective(objective_functions.sharpe_ratio, objective_args=(ef.expected_returns, ef.cov_matrix), weights_sum_to_one=True)"
   ]
  },
  {
   "cell_type": "code",
   "execution_count": 11,
   "id": "fa995ac6",
   "metadata": {},
   "outputs": [],
   "source": [
    "# raw_weights"
   ]
  },
  {
   "cell_type": "code",
   "execution_count": 12,
   "id": "1c9adca1",
   "metadata": {},
   "outputs": [],
   "source": [
    "# cleaned_weights = ef.clean_weights()\n",
    "# ef.save_weights_to_file(\"weights.csv\")  # saves to file\n",
    "# print(cleaned_weights)\n",
    "# ef.portfolio_performance(verbose=True)"
   ]
  },
  {
   "cell_type": "code",
   "execution_count": 13,
   "id": "be3396ba",
   "metadata": {},
   "outputs": [
    {
     "data": {
      "text/plain": [
       "<matplotlib.collections.PathCollection at 0x131d37430>"
      ]
     },
     "execution_count": 13,
     "metadata": {},
     "output_type": "execute_result"
    },
    {
     "data": {
      "image/png": "[encoded data removed]",
      "text/plain": [
       "<Figure size 432x288 with 1 Axes>"
      ]
     },
     "metadata": {
      "needs_background": "light"
     },
     "output_type": "display_data"
    }
   ],
   "source": [
    "fig, ax = plt.subplots()\n",
    "plotting.plot_efficient_frontier(ef, ax=ax, show_assets=False)\n",
    "\n",
    "# Find the tangency portfolio\n",
    "raw_weights = ef.max_sharpe()\n",
    "ret_tangent, std_tangent, _ = ef.portfolio_performance()\n",
    "ax.scatter(std_tangent, ret_tangent, marker=\"*\", s=100, c=\"g\", label=\"Max Sharpe\")\n",
    "\n",
    "# Generate random portfolios\n",
    "n_samples = 10000\n",
    "w = np.random.dirichlet(np.ones(len(mu)), n_samples)\n",
    "rets = w.dot(mu)\n",
    "stds = np.sqrt(np.diag(w @ S @ w.T))\n",
    "sharpes = rets / stds\n",
    "ax.scatter(stds, rets, marker=\".\", c=sharpes, cmap=\"viridis_r\")\n",
    "\n",
    "# Nifty Top\n",
    "nifty = np.array([(topk[\"WEIGHTAGE(%)\"]/sum(topk[\"WEIGHTAGE(%)\"])).values])\n",
    "rets1 = nifty.dot(mu)\n",
    "stds1 = np.sqrt(np.diag(nifty @ S @ nifty.T))\n",
    "ax.scatter(stds1, rets1, marker=\"^\", c='b', s=200)\n",
    "\n",
    "# # Output\n",
    "# ax.set_title(\"Efficient Frontier with random portfolios\")\n",
    "# ax.legend()\n",
    "# plt.tight_layout()\n",
    "# plt.savefig(\"ef_scatter.png\", dpi=200)\n",
    "# plt.show()"
   ]
  },
  {
   "cell_type": "code",
   "execution_count": 14,
   "id": "3824143d",
   "metadata": {},
   "outputs": [
    {
     "data": {
      "text/plain": [
       "array([0.3494463])"
      ]
     },
     "execution_count": 14,
     "metadata": {},
     "output_type": "execute_result"
    }
   ],
   "source": [
    "# nifty.dot(mu)\n",
    "# w.dot(mu).shape\n",
    "# np.sqrt(np.diag(w @ S @ w.T)).shape\n",
    "rets1\n",
    "# stds1"
   ]
  },
  {
   "cell_type": "code",
   "execution_count": 15,
   "id": "3d1e16b8",
   "metadata": {},
   "outputs": [
    {
     "data": {
      "text/plain": [
       "(1,)"
      ]
     },
     "execution_count": 15,
     "metadata": {},
     "output_type": "execute_result"
    }
   ],
   "source": [
    "np.sqrt(np.diag(nifty @ S @ nifty.T)).shape"
   ]
  },
  {
   "cell_type": "code",
   "execution_count": 16,
   "id": "295c2bdc",
   "metadata": {},
   "outputs": [
    {
     "data": {
      "text/html": [
       "<div>\n",
       "<style scoped>\n",
       "    .dataframe tbody tr th:only-of-type {\n",
       "        vertical-align: middle;\n",
       "    }\n",
       "\n",
       "    .dataframe tbody tr th {\n",
       "        vertical-align: top;\n",
       "    }\n",
       "\n",
       "    .dataframe thead th {\n",
       "        text-align: right;\n",
       "    }\n",
       "</style>\n",
       "<table border=\"1\" class=\"dataframe\">\n",
       "  <thead>\n",
       "    <tr style=\"text-align: right;\">\n",
       "      <th></th>\n",
       "      <th>RELIANCE</th>\n",
       "      <th>HDFCBANK</th>\n",
       "      <th>INFY</th>\n",
       "      <th>HDFC</th>\n",
       "      <th>ICICIBANK</th>\n",
       "      <th>TCS</th>\n",
       "      <th>KOTAKBANK</th>\n",
       "      <th>HINDUNILVR</th>\n",
       "      <th>AXISBANK</th>\n",
       "    </tr>\n",
       "  </thead>\n",
       "  <tbody>\n",
       "    <tr>\n",
       "      <th>RELIANCE</th>\n",
       "      <td>0.019174</td>\n",
       "      <td>0.007469</td>\n",
       "      <td>0.004650</td>\n",
       "      <td>0.004972</td>\n",
       "      <td>0.006003</td>\n",
       "      <td>0.002778</td>\n",
       "      <td>0.002661</td>\n",
       "      <td>0.001389</td>\n",
       "      <td>0.002650</td>\n",
       "    </tr>\n",
       "    <tr>\n",
       "      <th>HDFCBANK</th>\n",
       "      <td>0.008237</td>\n",
       "      <td>0.018093</td>\n",
       "      <td>0.004144</td>\n",
       "      <td>0.010680</td>\n",
       "      <td>0.011066</td>\n",
       "      <td>0.001919</td>\n",
       "      <td>0.004818</td>\n",
       "      <td>0.001004</td>\n",
       "      <td>0.003656</td>\n",
       "    </tr>\n",
       "    <tr>\n",
       "      <th>INFY</th>\n",
       "      <td>0.005952</td>\n",
       "      <td>0.004811</td>\n",
       "      <td>0.043097</td>\n",
       "      <td>0.003603</td>\n",
       "      <td>0.002809</td>\n",
       "      <td>0.005419</td>\n",
       "      <td>0.002829</td>\n",
       "      <td>0.001493</td>\n",
       "      <td>0.001204</td>\n",
       "    </tr>\n",
       "    <tr>\n",
       "      <th>HDFC</th>\n",
       "      <td>0.007882</td>\n",
       "      <td>0.015351</td>\n",
       "      <td>0.004462</td>\n",
       "      <td>0.016174</td>\n",
       "      <td>0.012722</td>\n",
       "      <td>0.002347</td>\n",
       "      <td>0.005200</td>\n",
       "      <td>0.001343</td>\n",
       "      <td>0.004499</td>\n",
       "    </tr>\n",
       "    <tr>\n",
       "      <th>ICICIBANK</th>\n",
       "      <td>0.009905</td>\n",
       "      <td>0.016556</td>\n",
       "      <td>0.003621</td>\n",
       "      <td>0.013241</td>\n",
       "      <td>0.019703</td>\n",
       "      <td>0.001898</td>\n",
       "      <td>0.005595</td>\n",
       "      <td>0.001104</td>\n",
       "      <td>0.006705</td>\n",
       "    </tr>\n",
       "    <tr>\n",
       "      <th>TCS</th>\n",
       "      <td>0.005863</td>\n",
       "      <td>0.003673</td>\n",
       "      <td>0.008933</td>\n",
       "      <td>0.003125</td>\n",
       "      <td>0.002428</td>\n",
       "      <td>0.006553</td>\n",
       "      <td>0.001204</td>\n",
       "      <td>0.001461</td>\n",
       "      <td>0.000956</td>\n",
       "    </tr>\n",
       "    <tr>\n",
       "      <th>KOTAKBANK</th>\n",
       "      <td>0.007459</td>\n",
       "      <td>0.012243</td>\n",
       "      <td>0.006193</td>\n",
       "      <td>0.009194</td>\n",
       "      <td>0.009503</td>\n",
       "      <td>0.001599</td>\n",
       "      <td>0.007797</td>\n",
       "      <td>0.001326</td>\n",
       "      <td>0.003459</td>\n",
       "    </tr>\n",
       "    <tr>\n",
       "      <th>HINDUNILVR</th>\n",
       "      <td>0.004477</td>\n",
       "      <td>0.002934</td>\n",
       "      <td>0.003761</td>\n",
       "      <td>0.002731</td>\n",
       "      <td>0.002157</td>\n",
       "      <td>0.002233</td>\n",
       "      <td>0.001525</td>\n",
       "      <td>0.003544</td>\n",
       "      <td>0.000744</td>\n",
       "    </tr>\n",
       "    <tr>\n",
       "      <th>AXISBANK</th>\n",
       "      <td>0.010276</td>\n",
       "      <td>0.012855</td>\n",
       "      <td>0.003647</td>\n",
       "      <td>0.011006</td>\n",
       "      <td>0.015760</td>\n",
       "      <td>0.001757</td>\n",
       "      <td>0.004787</td>\n",
       "      <td>0.000895</td>\n",
       "      <td>0.009024</td>\n",
       "    </tr>\n",
       "  </tbody>\n",
       "</table>\n",
       "</div>"
      ],
      "text/plain": [
       "            RELIANCE  HDFCBANK      INFY      HDFC  ICICIBANK       TCS  \\\n",
       "RELIANCE    0.019174  0.007469  0.004650  0.004972   0.006003  0.002778   \n",
       "HDFCBANK    0.008237  0.018093  0.004144  0.010680   0.011066  0.001919   \n",
       "INFY        0.005952  0.004811  0.043097  0.003603   0.002809  0.005419   \n",
       "HDFC        0.007882  0.015351  0.004462  0.016174   0.012722  0.002347   \n",
       "ICICIBANK   0.009905  0.016556  0.003621  0.013241   0.019703  0.001898   \n",
       "TCS         0.005863  0.003673  0.008933  0.003125   0.002428  0.006553   \n",
       "KOTAKBANK   0.007459  0.012243  0.006193  0.009194   0.009503  0.001599   \n",
       "HINDUNILVR  0.004477  0.002934  0.003761  0.002731   0.002157  0.002233   \n",
       "AXISBANK    0.010276  0.012855  0.003647  0.011006   0.015760  0.001757   \n",
       "\n",
       "            KOTAKBANK  HINDUNILVR  AXISBANK  \n",
       "RELIANCE     0.002661    0.001389  0.002650  \n",
       "HDFCBANK     0.004818    0.001004  0.003656  \n",
       "INFY         0.002829    0.001493  0.001204  \n",
       "HDFC         0.005200    0.001343  0.004499  \n",
       "ICICIBANK    0.005595    0.001104  0.006705  \n",
       "TCS          0.001204    0.001461  0.000956  \n",
       "KOTAKBANK    0.007797    0.001326  0.003459  \n",
       "HINDUNILVR   0.001525    0.003544  0.000744  \n",
       "AXISBANK     0.004787    0.000895  0.009024  "
      ]
     },
     "execution_count": 16,
     "metadata": {},
     "output_type": "execute_result"
    }
   ],
   "source": [
    "nifty * S"
   ]
  },
  {
   "cell_type": "code",
   "execution_count": null,
   "id": "1c907d53",
   "metadata": {},
   "outputs": [],
   "source": []
  },
  {
   "cell_type": "code",
   "execution_count": 17,
   "id": "49c71bb8",
   "metadata": {},
   "outputs": [
    {
     "data": {
      "text/plain": [
       "0    0.187846\n",
       "1    0.170331\n",
       "2    0.146738\n",
       "3    0.118499\n",
       "4    0.113852\n",
       "5    0.089008\n",
       "6    0.067024\n",
       "7    0.058266\n",
       "8    0.048436\n",
       "Name: WEIGHTAGE(%), dtype: float64"
      ]
     },
     "execution_count": 17,
     "metadata": {},
     "output_type": "execute_result"
    }
   ],
   "source": [
    "topk[\"WEIGHTAGE(%)\"]/sum(topk[\"WEIGHTAGE(%)\"])"
   ]
  },
  {
   "cell_type": "code",
   "execution_count": 18,
   "id": "f2c0be96",
   "metadata": {},
   "outputs": [
    {
     "data": {
      "text/plain": [
       "OrderedDict([('RELIANCE', 0.0),\n",
       "             ('HDFCBANK', 0.0),\n",
       "             ('INFY', 0.1974132196509596),\n",
       "             ('HDFC', 0.0),\n",
       "             ('ICICIBANK', 0.0),\n",
       "             ('TCS', 0.4157200297654416),\n",
       "             ('KOTAKBANK', 0.3868667505835988),\n",
       "             ('HINDUNILVR', 0.0),\n",
       "             ('AXISBANK', 0.0)])"
      ]
     },
     "execution_count": 18,
     "metadata": {},
     "output_type": "execute_result"
    }
   ],
   "source": [
    "raw_weights"
   ]
  }
 ],
 "metadata": {
  "kernelspec": {
   "display_name": "Python 3",
   "language": "python",
   "name": "python3"
  },
  "language_info": {
   "codemirror_mode": {
    "name": "ipython",
    "version": 3
   },
   "file_extension": ".py",
   "mimetype": "text/x-python",
   "name": "python",
   "nbconvert_exporter": "python",
   "pygments_lexer": "ipython3",
   "version": "3.9.5"
  }
 },
 "nbformat": 4,
 "nbformat_minor": 5
}
