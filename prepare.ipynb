{
 "cells": [
  {
   "cell_type": "code",
   "execution_count": 1,
   "id": "b2e8ad60",
   "metadata": {},
   "outputs": [],
   "source": [
    "import pandas as pd\n",
    "import os\n",
    "import numpy as np\n",
    "from datetime import datetime\n",
    "import time\n",
    "pd.set_option(\"display.max_columns\", None)"
   ]
  },
  {
   "cell_type": "code",
   "execution_count": 2,
   "id": "0ba4271e",
   "metadata": {},
   "outputs": [],
   "source": [
    "WD = \"data\""
   ]
  },
  {
   "cell_type": "code",
   "execution_count": 3,
   "id": "84450d0c",
   "metadata": {},
   "outputs": [],
   "source": [
    "raw_df = pd.read_csv(WD + \"/archive/NIFTY50_all.csv\", parse_dates=True)"
   ]
  },
  {
   "cell_type": "code",
   "execution_count": 4,
   "id": "026eb1a1",
   "metadata": {},
   "outputs": [],
   "source": [
    "raw_df[\"Symbol\"].replace({\"INFOSYSTCH\": \"INFY\",\n",
    "                          \"KOTAKMAH\": \"KOTAKBANK\",\n",
    "                          \"HINDLEVER\": \"HINDUNILVR\",\n",
    "                          \"UTIBANK\": \"AXISBANK\"}, inplace=True)"
   ]
  },
  {
   "cell_type": "code",
   "execution_count": 5,
   "id": "b1243a97",
   "metadata": {},
   "outputs": [],
   "source": [
    "index_all_df = raw_df.pivot(index=\"Date\", columns=\"Symbol\", values=\"Close\")"
   ]
  },
  {
   "cell_type": "code",
   "execution_count": 6,
   "id": "7c1993a9",
   "metadata": {},
   "outputs": [],
   "source": [
    "topk = pd.read_csv(WD + '/top10nifty50_230621.csv').head(9)\n",
    "# k = 10"
   ]
  },
  {
   "cell_type": "code",
   "execution_count": 7,
   "id": "0a994bc1",
   "metadata": {},
   "outputs": [],
   "source": [
    "index_df = index_all_df[topk['SYMBOL']].copy()"
   ]
  },
  {
   "cell_type": "code",
   "execution_count": 8,
   "id": "9f8e07d5",
   "metadata": {},
   "outputs": [],
   "source": [
    "index_df.fillna(method = 'bfill', inplace=True)"
   ]
  },
  {
   "cell_type": "code",
   "execution_count": 9,
   "id": "6ea2cc88",
   "metadata": {},
   "outputs": [],
   "source": [
    "index_df = index_df[index_df.index.slice_indexer(\"2005-01-07\")]"
   ]
  },
  {
   "cell_type": "code",
   "execution_count": 10,
   "id": "3a2b893d",
   "metadata": {},
   "outputs": [],
   "source": [
    "def AdjustStockSplits(data_df, cols = []):\n",
    "    l = data_df.shape[0]\n",
    "    result = pd.DataFrame()\n",
    "    for col in data_df.columns:\n",
    "#         print(col)\n",
    "        result[col] = data_df[col].copy()\n",
    "        if (len(cols) != 0 and col not in cols):\n",
    "            continue\n",
    "        factor = 1\n",
    "        last_close = data_df[col][l - 1]\n",
    "        for i in range(l):\n",
    "            curr = l - i - 1\n",
    "            if (last_close * factor < 0.6 * data_df[col][curr] ):\n",
    "                factor = factor *  data_df[col][curr] / last_close\n",
    "                print('split', col, data_df[col][curr], factor, last_close)\n",
    "            result[col][curr] = (data_df[col][curr] / factor)\n",
    "            result[col][curr] = data_df[col][curr] / factor\n",
    "            last_close = result[col][curr]\n",
    "#             print(data_df[col][curr], factor, last_close)\n",
    "#         break\n",
    "    return result\n",
    "    "
   ]
  },
  {
   "cell_type": "code",
   "execution_count": 11,
   "id": "18e6bcce",
   "metadata": {},
   "outputs": [
    {
     "name": "stdout",
     "output_type": "stream",
     "text": [
      "split RELIANCE 1645.4 2.0112455690013444 818.1\n",
      "split RELIANCE 2194.7 8.345758072013917 528.9011030752401\n",
      "split HDFCBANK 2187.75 1.9869669860587622 1101.05\n",
      "split HDFCBANK 2519.7 19.661766684358625 254.6343263627014\n",
      "split INFY 1434.25 1.9456691311130707 737.15\n",
      "split INFY 1975.05 7.548897276749774 509.05366393585496\n",
      "split INFY 4349.85 116.56160069377809 281.71001962761125\n",
      "split INFY 3385.65 27348.90761583446 14.429709183719028\n",
      "split HDFC 3008.95 4.84377012234385 621.2\n",
      "split ICICIBANK 1794.1 4.953340695748206 362.2\n",
      "split TCS 3514.1 2.018379713391344 1741.05\n",
      "split TCS 778.0 8.144572754105939 192.80316652912552\n",
      "split TCS 1899.7 135.72602072222847 113.99615769064606\n",
      "split KOTAKBANK 1425.6 2.016122189223589 707.1\n",
      "split KOTAKBANK 864.6 7.729011898731478 225.53196548821552\n",
      "split KOTAKBANK 464.75 136.93248427402247 26.232331203070895\n",
      "split AXISBANK 1985.75 5.022764638927533 395.35\n",
      "split LT 2446.4 2.0116766713263714 1216.1\n",
      "split LT 2589.6 8.297141609897611 627.859346386527\n"
     ]
    }
   ],
   "source": [
    "index_df = AdjustStockSplits(index_df)"
   ]
  },
  {
   "cell_type": "code",
   "execution_count": 12,
   "id": "c187d225",
   "metadata": {},
   "outputs": [],
   "source": [
    "# l = index_all_df.shape[0]\n",
    "# for i in range(l):\n",
    "#     print(i, index_all_df.index[i], index_all_df.LT.iloc[i])"
   ]
  },
  {
   "cell_type": "code",
   "execution_count": 13,
   "id": "158cfd14",
   "metadata": {},
   "outputs": [],
   "source": [
    "# for col in index_all_df.columns:\n",
    "#     print(index_all_df.loc[[\"2004-06-22\", \"2004-06-23\"]][col])"
   ]
  }
 ],
 "metadata": {
  "kernelspec": {
   "display_name": "Python 3",
   "language": "python",
   "name": "python3"
  },
  "language_info": {
   "codemirror_mode": {
    "name": "ipython",
    "version": 3
   },
   "file_extension": ".py",
   "mimetype": "text/x-python",
   "name": "python",
   "nbconvert_exporter": "python",
   "pygments_lexer": "ipython3",
   "version": "3.9.5"
  }
 },
 "nbformat": 4,
 "nbformat_minor": 5
}
